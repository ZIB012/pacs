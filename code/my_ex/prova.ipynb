{
 "cells": [
  {
   "cell_type": "code",
   "execution_count": 1,
   "metadata": {},
   "outputs": [
    {
     "name": "stderr",
     "output_type": "stream",
     "text": [
      "Using backend: tensorflow\n",
      "Other supported backends: tensorflow.compat.v1, pytorch, jax, paddle.\n",
      "paddle supports more examples now and is recommended.\n"
     ]
    },
    {
     "name": "stdout",
     "output_type": "stream",
     "text": [
      "Compiling model...\n",
      "'compile' took 0.001717 s\n",
      "\n",
      "Training model...\n",
      "\n",
      "(20, 1)\n",
      "(20, 1)\n",
      "Tensor(\"partioned_random_fnn/Const:0\", shape=(20, 1), dtype=float32)\n"
     ]
    },
    {
     "name": "stderr",
     "output_type": "stream",
     "text": [
      "c:\\Users\\Marco\\anaconda3\\lib\\site-packages\\keras\\initializers\\initializers_v2.py:120: UserWarning: The initializer GlorotUniform is unseeded and being called multiple times, which will return identical values  each time (even if the initializer is unseeded). Please update your code to provide a seed to the initializer, or avoid using the same initalizer instance more than once.\n",
      "  warnings.warn(\n"
     ]
    },
    {
     "name": "stdout",
     "output_type": "stream",
     "text": [
      "Tensor(\"partioned_random_fnn/Const:0\", shape=(20, 1), dtype=float32)\n",
      "(102, 1)\n",
      "(102, 1)\n",
      "Tensor(\"partioned_random_fnn/Const:0\", shape=(102, 1), dtype=float32)\n",
      "Step      Train loss              Test loss               Test metric   \n",
      "0         [1.69e+03, 3.49e+00]    [1.84e+03, 3.49e+00]    [2.61e+00]    \n",
      "(20, 1)\n",
      "(20, 1)\n",
      "(102, 1)\n",
      "(102, 1)\n",
      "1         [1.66e+03, 3.47e+00]    [1.82e+03, 3.47e+00]    [2.60e+00]    \n",
      "\n",
      "Best model at step 1:\n",
      "  train loss: 1.67e+03\n",
      "  test loss: 1.82e+03\n",
      "  test metric: [2.60e+00]\n",
      "\n",
      "'train' took 2.410339 s\n",
      "\n"
     ]
    }
   ],
   "source": [
    "import sys\n",
    "sys.path.append('../../code')\n",
    "import deepxde as dde\n",
    "import matplotlib.pyplot as plt\n",
    "import numpy as np\n",
    "# Import tf if using backend tensorflow.compat.v1 or tensorflow\n",
    "from deepxde.backend import tf\n",
    "\n",
    "def psi(x):\n",
    "    #ar = np.zeros(x.shape[0])\n",
    "    #for i in range(x.shape[0]):\n",
    "        #print(tf.where(x[i][0] > 1 or x[i][0] < -1, 0.0, 1.0))\n",
    "        #ar[i] = tf.where(x[i][0] > 1 or x[i][0] < -1, 0.0, 1.0)\n",
    "    #return tf.convert_to_tensor(ar)\n",
    "    return tf.where(x > 1 or x < -1, 0.0, 1.0)\n",
    "\n",
    "def indicatrice(a,b):\n",
    "    return lambda x: psi((2*x-b-a)/(b-a))\n",
    "\n",
    "npart = 2\n",
    "arr = np.linspace(-1, 1, npart + 1)\n",
    "\n",
    "nn_indicatrici = [indicatrice(arr[i], arr[i+1]) for i in range(npart)]\n",
    "\n",
    "\n",
    "def pde(x, y):\n",
    "    dy_xx = dde.grad.hessian(y, x)\n",
    "    # Use tf.sin for backend tensorflow.compat.v1 or tensorflow\n",
    "    return -dy_xx - np.pi ** 2 * tf.sin(np.pi * x)\n",
    "    #return -dy_xx - 13*pi**2*tf.sin(3*pi*x + 3*pi/20)*tf.cos(2*pi*x + pi/10) - 12*pi**2*tf.cos(3*pi*x + 3*pi/20)*tf.sin(2*pi*x + pi/10)\n",
    "\n",
    "def boundary(x, on_boundary):\n",
    "    return on_boundary\n",
    "\n",
    "def func(x):\n",
    "    return np.sin(np.pi * x)\n",
    "    #return np.sin(3*pi*x + 3*pi/20)*np.cos(2*pi*x + pi/10) + 2\n",
    "\n",
    "geom = dde.geometry.Interval(-1, 1)\n",
    "bc = dde.icbc.DirichletBC(geom, func, boundary)\n",
    "data = dde.data.PDE(geom, pde, bc, 16, 2, solution=func, num_test=100)\n",
    "\n",
    "M =10\n",
    "layer_size = [1] + [M]  +  [1]\n",
    "\n",
    "activation = [\"sin\", 'linear']\n",
    "\n",
    "initializer = \"Glorot uniform\"\n",
    "\n",
    "net = dde.nn.partioned_random_FNN(layer_size, activation, initializer, npart, nn_indicatrici, Rm=10)\n",
    "\n",
    "model = dde.Model(data, net)\n",
    "#wei = np.ones(2)\n",
    "#wei[0] = 0\n",
    "#wei = tf.convert_to_tensor(wei, dtype=tf.float32)\n",
    "\n",
    "model.compile(\"adam\", lr=0.001, metrics=[\"l2 relative error\"])#, loss_weights=wei)\n",
    "\n",
    "losshistory, train_state = model.train(iterations=1)"
   ]
  },
  {
   "cell_type": "code",
   "execution_count": null,
   "metadata": {},
   "outputs": [],
   "source": []
  },
  {
   "cell_type": "code",
   "execution_count": 4,
   "metadata": {},
   "outputs": [
    {
     "name": "stdout",
     "output_type": "stream",
     "text": [
      "Compiling model...\n",
      "'compile' took 0.000617 s\n",
      "\n",
      "Training model...\n",
      "\n",
      "(20, 1)\n",
      "(20, 1)\n",
      "Tensor(\"inputs:0\", shape=(20, 1), dtype=float32)\n",
      "Tensor(\"random_fnn_2/dense_4/Sin:0\", shape=(20, 10), dtype=float32)\n",
      "Tensor(\"random_fnn_2/dense_5/BiasAdd:0\", shape=(20, 1), dtype=float32)\n",
      "Tensor(\"inputs:0\", shape=(20, 1), dtype=float32)\n",
      "Tensor(\"random_fnn_2/dense_4/Sin:0\", shape=(20, 10), dtype=float32)\n",
      "Tensor(\"random_fnn_2/dense_5/BiasAdd:0\", shape=(20, 1), dtype=float32)\n"
     ]
    },
    {
     "name": "stderr",
     "output_type": "stream",
     "text": [
      "c:\\Users\\Marco\\anaconda3\\lib\\site-packages\\keras\\initializers\\initializers_v2.py:120: UserWarning: The initializer GlorotUniform is unseeded and being called multiple times, which will return identical values  each time (even if the initializer is unseeded). Please update your code to provide a seed to the initializer, or avoid using the same initalizer instance more than once.\n",
      "  warnings.warn(\n"
     ]
    },
    {
     "name": "stdout",
     "output_type": "stream",
     "text": [
      "(102, 1)\n",
      "(102, 1)\n",
      "Tensor(\"inputs:0\", shape=(102, 1), dtype=float32)\n",
      "Tensor(\"random_fnn_2/dense_4/Sin:0\", shape=(102, 10), dtype=float32)\n",
      "Tensor(\"random_fnn_2/dense_5/BiasAdd:0\", shape=(102, 1), dtype=float32)\n",
      "Step      Train loss              Test loss               Test metric   \n",
      "0         [8.62e+02, 5.50e-01]    [9.29e+02, 5.50e-01]    [1.08e+00]    \n",
      "(20, 1)\n",
      "(20, 1)\n",
      "(102, 1)\n",
      "(102, 1)\n",
      "1000      [7.44e+00, 1.00e-02]    [6.03e+00, 1.00e-02]    [7.18e-02]    \n",
      "(20, 1)\n",
      "(20, 1)\n",
      "(102, 1)\n",
      "(102, 1)\n",
      "2000      [9.89e-02, 1.47e-01]    [9.67e-02, 1.47e-01]    [3.15e-01]    \n",
      "(20, 1)\n",
      "(20, 1)\n",
      "(102, 1)\n",
      "(102, 1)\n",
      "3000      [6.81e-02, 4.29e-02]    [6.06e-02, 4.29e-02]    [1.71e-01]    \n",
      "(20, 1)\n",
      "(20, 1)\n",
      "(102, 1)\n",
      "(102, 1)\n",
      "4000      [5.06e-02, 3.32e-03]    [4.23e-02, 3.32e-03]    [4.77e-02]    \n",
      "(20, 1)\n",
      "(20, 1)\n",
      "(102, 1)\n",
      "(102, 1)\n",
      "5000      [4.16e-02, 3.17e-04]    [3.33e-02, 3.17e-04]    [1.44e-02]    \n",
      "(20, 1)\n",
      "(20, 1)\n",
      "(102, 1)\n",
      "(102, 1)\n",
      "6000      [3.67e-02, 1.20e-03]    [2.90e-02, 1.20e-03]    [2.82e-02]    \n",
      "(20, 1)\n",
      "(20, 1)\n",
      "(102, 1)\n",
      "(102, 1)\n",
      "7000      [3.15e-02, 1.12e-03]    [2.49e-02, 1.12e-03]    [2.72e-02]    \n",
      "(20, 1)\n",
      "(20, 1)\n",
      "(102, 1)\n",
      "(102, 1)\n",
      "8000      [2.45e-02, 8.73e-04]    [1.96e-02, 8.73e-04]    [2.40e-02]    \n",
      "(20, 1)\n",
      "(20, 1)\n",
      "(102, 1)\n",
      "(102, 1)\n",
      "9000      [1.63e-02, 5.77e-04]    [1.31e-02, 5.77e-04]    [1.96e-02]    \n",
      "(20, 1)\n",
      "(20, 1)\n",
      "(102, 1)\n",
      "(102, 1)\n",
      "10000     [8.34e-03, 2.91e-04]    [6.88e-03, 2.91e-04]    [1.39e-02]    \n",
      "\n",
      "Best model at step 10000:\n",
      "  train loss: 8.63e-03\n",
      "  test loss: 7.17e-03\n",
      "  test metric: [1.39e-02]\n",
      "\n",
      "'train' took 5.393427 s\n",
      "\n"
     ]
    }
   ],
   "source": [
    "import sys\n",
    "sys.path.append('../../code')\n",
    "import deepxde as dde\n",
    "import matplotlib.pyplot as plt\n",
    "import numpy as np\n",
    "# Import tf if using backend tensorflow.compat.v1 or tensorflow\n",
    "from deepxde.backend import tf\n",
    "from numba import njit, prange\n",
    "\n",
    "def pde(x, y):\n",
    "    dy_xx = dde.grad.hessian(y, x)\n",
    "    # Use tf.sin for backend tensorflow.compat.v1 or tensorflow\n",
    "    return -dy_xx - np.pi ** 2 * tf.sin(np.pi * x)\n",
    "    #return -dy_xx - 13*pi**2*tf.sin(3*pi*x + 3*pi/20)*tf.cos(2*pi*x + pi/10) - 12*pi**2*tf.cos(3*pi*x + 3*pi/20)*tf.sin(2*pi*x + pi/10)\n",
    "\n",
    "def boundary(x, on_boundary):\n",
    "    return on_boundary\n",
    "\n",
    "def func(x):\n",
    "    return np.sin(np.pi * x)\n",
    "    #return np.sin(3*pi*x + 3*pi/20)*np.cos(2*pi*x + pi/10) + 2\n",
    "\n",
    "geom = dde.geometry.Interval(-1, 1)\n",
    "bc = dde.icbc.DirichletBC(geom, func, boundary)\n",
    "data = dde.data.PDE(geom, pde, bc, 16, 2, solution=func, num_test=100)\n",
    "\n",
    "M =10\n",
    "layer_size = [1] + [M]  +  [1]\n",
    "\n",
    "activation = [\"sin\", 'linear']\n",
    "\n",
    "initializer = \"Glorot uniform\"\n",
    "\n",
    "net = dde.nn.random_FNN(layer_size, activation, initializer, Rm=10)\n",
    "\n",
    "model = dde.Model(data, net)\n",
    "#wei = np.ones(2)\n",
    "#wei[0] = 0\n",
    "#wei = tf.convert_to_tensor(wei, dtype=tf.float32)\n",
    "\n",
    "model.compile(\"adam\", lr=0.001, metrics=[\"l2 relative error\"], loss_weights=1)\n",
    "\n",
    "losshistory, train_state = model.train(iterations=1)\n"
   ]
  },
  {
   "cell_type": "code",
   "execution_count": 3,
   "metadata": {},
   "outputs": [
    {
     "name": "stdout",
     "output_type": "stream",
     "text": [
      "tf.Tensor(\n",
      "[[1. 1. 1. 1. 1. 1. 1. 1. 1. 1.]\n",
      " [1. 1. 1. 1. 1. 1. 1. 1. 1. 1.]\n",
      " [1. 1. 1. 1. 1. 1. 1. 1. 1. 1.]\n",
      " [1. 1. 1. 1. 1. 1. 1. 1. 1. 1.]\n",
      " [1. 1. 1. 1. 1. 1. 1. 1. 1. 1.]\n",
      " [1. 1. 1. 1. 1. 1. 1. 1. 1. 1.]\n",
      " [1. 1. 1. 1. 1. 1. 1. 1. 1. 1.]\n",
      " [1. 1. 1. 1. 1. 1. 1. 1. 1. 1.]\n",
      " [1. 1. 1. 1. 1. 1. 1. 1. 1. 1.]\n",
      " [1. 1. 1. 1. 1. 1. 1. 1. 1. 1.]\n",
      " [1. 1. 1. 1. 1. 1. 1. 1. 1. 1.]\n",
      " [1. 1. 1. 1. 1. 1. 1. 1. 1. 1.]\n",
      " [1. 1. 1. 1. 1. 1. 1. 1. 1. 1.]\n",
      " [1. 1. 1. 1. 1. 1. 1. 1. 1. 1.]\n",
      " [1. 1. 1. 1. 1. 1. 1. 1. 1. 1.]\n",
      " [1. 1. 1. 1. 1. 1. 1. 1. 1. 1.]\n",
      " [1. 1. 1. 1. 1. 1. 1. 1. 1. 1.]\n",
      " [1. 1. 1. 1. 1. 1. 1. 1. 1. 1.]\n",
      " [1. 1. 1. 1. 1. 1. 1. 1. 1. 1.]\n",
      " [1. 1. 1. 1. 1. 1. 1. 1. 1. 1.]], shape=(20, 10), dtype=float64)\n"
     ]
    }
   ],
   "source": [
    "x = tf.convert_to_tensor(np.ones((20, 10)))\n",
    "y = tf.convert_to_tensor(np.ones((20, 1)))\n",
    "\n",
    "print(tf.math.multiply(y, x))"
   ]
  },
  {
   "cell_type": "code",
   "execution_count": 34,
   "metadata": {},
   "outputs": [],
   "source": [
    "geom = dde.geometry.Interval(-1, 1)\n",
    "bc = dde.icbc.DirichletBC(geom, func, boundary)\n",
    "data = dde.data.PDE(geom, pde, bc, 16, 2, solution=func, num_test=100)\n",
    "\n",
    "def psi_2(x):\n",
    "    arr = np.ones(x.shape[0])\n",
    "    for i in range(x.shape[0]):\n",
    "        if x[i] < -1 or x[i] > 1:\n",
    "            arr[i] = 0\n",
    "    return arr\n",
    "\n",
    "def indicatrice_2(a,b):\n",
    "    return lambda x: psi_2((2*x-b-a)/(b-a))\n",
    "\n",
    "npart = 2\n",
    "arr = np.linspace(-1, 1, npart + 1)\n",
    "nn_indicatrici_2 = [indicatrice_2(arr[i], arr[i+1]) for i in range(npart)]\n",
    "\n",
    "train_indicatrici = [nn_indicatrici_2[i](data.train_x) for i in range(npart)]\n",
    "test_indicatrici = [nn_indicatrici_2[i](data.test_x) for i in range(npart)]"
   ]
  },
  {
   "cell_type": "code",
   "execution_count": 40,
   "metadata": {},
   "outputs": [
    {
     "name": "stdout",
     "output_type": "stream",
     "text": [
      "Compiling model...\n",
      "Warning: learning rate is ignored for L-BFGS\n",
      "'compile' took 0.000545 s\n",
      "\n"
     ]
    },
    {
     "name": "stdout",
     "output_type": "stream",
     "text": [
      "Training model...\n",
      "\n",
      "Step      Train loss              Test loss               Test metric   \n",
      "0         [3.49e+02, 7.60e-02]    [3.73e+02, 7.60e-02]    [1.10e+00]    \n",
      "35        [4.07e-06, 1.76e-09]    [6.96e-04, 1.76e-09]    [1.36e-01]    \n",
      "35        [4.07e-06, 1.76e-09]    [6.96e-04, 1.76e-09]    [1.36e-01]    \n",
      "\n",
      "Best model at step 35:\n",
      "  train loss: 4.07e-06\n",
      "  test loss: 6.96e-04\n",
      "  test metric: [1.36e-01]\n",
      "\n",
      "'train' took 5.926895 s\n",
      "\n",
      "Saving loss history to c:\\Users\\Marco\\Documents\\GitHub\\pacs\\code\\my_ex\\loss.dat ...\n",
      "Saving training data to c:\\Users\\Marco\\Documents\\GitHub\\pacs\\code\\my_ex\\train.dat ...\n",
      "Saving test data to c:\\Users\\Marco\\Documents\\GitHub\\pacs\\code\\my_ex\\test.dat ...\n"
     ]
    },
    {
     "data": {
      "image/png": "[encoded data removed]",
      "text/plain": [
       "<Figure size 640x480 with 1 Axes>"
      ]
     },
     "metadata": {},
     "output_type": "display_data"
    },
    {
     "data": {
      "image/png": "[encoded data removed]",
      "text/plain": [
       "<Figure size 640x480 with 1 Axes>"
      ]
     },
     "metadata": {},
     "output_type": "display_data"
    }
   ],
   "source": [
    "import sys\n",
    "sys.path.append('../../code')\n",
    "import deepxde as dde\n",
    "import matplotlib.pyplot as plt\n",
    "import numpy as np\n",
    "# Import tf if using backend tensorflow.compat.v1 or tensorflow\n",
    "from deepxde.backend import tf\n",
    "from numba import njit, prange\n",
    "\n",
    "pi = np.pi\n",
    "\n",
    "def pde(x, y):\n",
    "    dy_xx = dde.grad.hessian(y, x)\n",
    "    # Use tf.sin for backend tensorflow.compat.v1 or tensorflow\n",
    "    return -dy_xx - (np.pi) ** 2 * tf.sin(np.pi * x)\n",
    "    #return -dy_xx - 13*pi**2*tf.sin(3*pi*x + 3*pi/20)*tf.cos(2*pi*x + pi/10) - 12*pi**2*tf.cos(3*pi*x + 3*pi/20)*tf.sin(2*pi*x + pi/10)\n",
    "\n",
    "def boundary(x, on_boundary):\n",
    "    return on_boundary\n",
    "\n",
    "def func(x):\n",
    "    return np.sin(np.pi * x)\n",
    "    #return np.sin(3*pi*x + 3*pi/20)*np.cos(2*pi*x + pi/10) + 2\n",
    "\n",
    "geom = dde.geometry.Interval(-1, 1)\n",
    "bc = dde.icbc.DirichletBC(geom, func, boundary)\n",
    "data = dde.data.PDE(geom, pde, bc, 30, 2, solution=func, num_test=500)\n",
    "\n",
    "def psi_2(x):\n",
    "    arr = np.ones(x.shape[0])\n",
    "    for i in range(x.shape[0]):\n",
    "        if x[i] < -1 or x[i] > 1:\n",
    "            arr[i] = 0\n",
    "    return arr\n",
    "\n",
    "def psi_3(x):\n",
    "    arr = np.ones(x.shape[0])\n",
    "    for i in range(x.shape[0]):\n",
    "        if x[i] < -5/4 or x[i] > 5/4:\n",
    "            arr[i] = 0\n",
    "        elif x[i] >= -5/4 and x[i] <= -3/4:\n",
    "            arr[i] = (1 + np.sin(2*pi*x[i]))/2\n",
    "        elif x[i] >= 3/4 and x[i] <= 5/4:\n",
    "            arr[i] = (1 - np.sin(2*pi*x[i]))/2\n",
    "    \n",
    "    return arr\n",
    "\n",
    "def indicatrice_2(a,b):\n",
    "    return lambda x: psi_3((2*x-b-a)/(b-a))\n",
    "    #return lambda x: psi_3(3*(x/2 - a - b)/(b - a))\n",
    "\n",
    "npart = 4\n",
    "arr = np.linspace(-1, 1, npart + 1)\n",
    "nn_indicatrici_2 = [indicatrice_2(arr[i], arr[i+1]) for i in range(npart)]\n",
    "\n",
    "train_indicatrici = [nn_indicatrici_2[i](data.train_x) for i in range(npart)]\n",
    "test_indicatrici = [nn_indicatrici_2[i](data.test_x) for i in range(npart)]\n",
    "\n",
    "M = 200\n",
    "layer_size = [1] + [M]  +  [1]\n",
    "\n",
    "activation = [\"sin\", 'linear']\n",
    "\n",
    "initializer = \"Glorot uniform\"\n",
    "\n",
    "net = dde.nn.partioned_random_FNN(layer_size, activation, initializer, npart, train_indicatrici, test_indicatrici, Rm=8)\n",
    "\n",
    "model = dde.Model(data, net)\n",
    "\n",
    "model.compile(\"L-BFGS\", lr=0.001, metrics=[\"l2 relative error\"], loss_weights=1)\n",
    "\n",
    "losshistory, train_state = model.train(iterations=10000)\n",
    "dde.saveplot(losshistory, train_state, issave=True, isplot=True)"
   ]
  },
  {
   "cell_type": "code",
   "execution_count": 6,
   "metadata": {},
   "outputs": [
    {
     "name": "stdout",
     "output_type": "stream",
     "text": [
      "[0.5 0.5]\n"
     ]
    }
   ],
   "source": [
    "b = indicatrice_2(0, 1)\n",
    "a = np.array([0, 1])\n",
    "print(b(a))"
   ]
  },
  {
   "cell_type": "code",
   "execution_count": null,
   "metadata": {},
   "outputs": [],
   "source": []
  }
 ],
 "metadata": {
  "kernelspec": {
   "display_name": "base",
   "language": "python",
   "name": "python3"
  },
  "language_info": {
   "codemirror_mode": {
    "name": "ipython",
    "version": 3
   },
   "file_extension": ".py",
   "mimetype": "text/x-python",
   "name": "python",
   "nbconvert_exporter": "python",
   "pygments_lexer": "ipython3",
   "version": "3.9.13"
  },
  "orig_nbformat": 4
 },
 "nbformat": 4,
 "nbformat_minor": 2
}
